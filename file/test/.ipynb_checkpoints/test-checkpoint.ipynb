{
 "cells": [
  {
   "cell_type": "code",
   "execution_count": 6,
   "id": "a47104bb",
   "metadata": {},
   "outputs": [],
   "source": [
    "import xlrd  # version：1.2.0，读取Excel文件的包，不能用2.0以上版本\n",
    "import tkinter as tk  # 导入打开文件浏览器的包\n",
    "from tkinter import filedialog"
   ]
  },
  {
   "cell_type": "code",
   "execution_count": 1,
   "id": "81acde9c",
   "metadata": {},
   "outputs": [],
   "source": [
    "filetypes = [(\"Microsoft Excel文件\", \"*.xlsx\"),\n",
    "                 (\"Microsoft Excel文件\", \"*.xls\"),\n",
    "                 (\"CSV文件\", \"*.csv\")]"
   ]
  },
  {
   "cell_type": "code",
   "execution_count": 2,
   "id": "1ff2a273",
   "metadata": {},
   "outputs": [
    {
     "name": "stdout",
     "output_type": "stream",
     "text": [
      "('Microsoft Excel文件', '*.xlsx')\n"
     ]
    }
   ],
   "source": [
    "print(filetypes[0])\n",
    "print(filetypes[0])\n"
   ]
  },
  {
   "cell_type": "code",
   "execution_count": null,
   "id": "32bdf745",
   "metadata": {},
   "outputs": [],
   "source": []
  }
 ],
 "metadata": {
  "kernelspec": {
   "display_name": "Python 3 (ipykernel)",
   "language": "python",
   "name": "python3"
  },
  "language_info": {
   "codemirror_mode": {
    "name": "ipython",
    "version": 3
   },
   "file_extension": ".py",
   "mimetype": "text/x-python",
   "name": "python",
   "nbconvert_exporter": "python",
   "pygments_lexer": "ipython3",
   "version": "3.8.7"
  }
 },
 "nbformat": 4,
 "nbformat_minor": 5
}
